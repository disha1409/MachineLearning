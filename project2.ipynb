{
  "nbformat": 4,
  "nbformat_minor": 0,
  "metadata": {
    "colab": {
      "name": "project2.ipynb",
      "provenance": [],
      "mount_file_id": "1yJ3e_KP64HRmetFdyb_TDB6NhF9HAXPp",
      "authorship_tag": "ABX9TyMNPujdPYhWbup+nBVx/459",
      "include_colab_link": true
    },
    "kernelspec": {
      "name": "python3",
      "display_name": "Python 3"
    }
  },
  "cells": [
    {
      "cell_type": "markdown",
      "metadata": {
        "id": "view-in-github",
        "colab_type": "text"
      },
      "source": [
        "<a href=\"https://colab.research.google.com/github/disha1409/MachineLearning/blob/master/project2.ipynb\" target=\"_parent\"><img src=\"https://colab.research.google.com/assets/colab-badge.svg\" alt=\"Open In Colab\"/></a>"
      ]
    },
    {
      "cell_type": "code",
      "metadata": {
        "id": "_JcvBjAYKcXg",
        "colab_type": "code",
        "outputId": "9ba85705-73bc-4cb2-eb62-345f8ad66a02",
        "colab": {
          "base_uri": "https://localhost:8080/",
          "height": 234
        }
      },
      "source": [
        "import numpy as np\n",
        "import pandas as pd\n",
        "import seaborn as sb\n",
        "from sklearn.preprocessing import OneHotEncoder\n",
        "from sklearn.preprocessing import LabelEncoder\n",
        "from sklearn.preprocessing import OrdinalEncoder\n",
        "from keras.models import Sequential\n",
        "from keras.layers import Dense\n",
        "\n",
        "df=pd.read_csv('/content/drive/My Drive/dataset/train_AV3.csv')\n",
        "df.head()\n",
        "dft=pd.read_csv('/content/drive/My Drive/dataset/test_AV3.csv')\n",
        "dft.head()\n"
      ],
      "execution_count": 54,
      "outputs": [
        {
          "output_type": "execute_result",
          "data": {
            "text/html": [
              "<div>\n",
              "<style scoped>\n",
              "    .dataframe tbody tr th:only-of-type {\n",
              "        vertical-align: middle;\n",
              "    }\n",
              "\n",
              "    .dataframe tbody tr th {\n",
              "        vertical-align: top;\n",
              "    }\n",
              "\n",
              "    .dataframe thead th {\n",
              "        text-align: right;\n",
              "    }\n",
              "</style>\n",
              "<table border=\"1\" class=\"dataframe\">\n",
              "  <thead>\n",
              "    <tr style=\"text-align: right;\">\n",
              "      <th></th>\n",
              "      <th>Loan_ID</th>\n",
              "      <th>Gender</th>\n",
              "      <th>Married</th>\n",
              "      <th>Dependents</th>\n",
              "      <th>Education</th>\n",
              "      <th>Self_Employed</th>\n",
              "      <th>ApplicantIncome</th>\n",
              "      <th>CoapplicantIncome</th>\n",
              "      <th>LoanAmount</th>\n",
              "      <th>Loan_Amount_Term</th>\n",
              "      <th>Credit_History</th>\n",
              "      <th>Property_Area</th>\n",
              "      <th>Loan_Status</th>\n",
              "    </tr>\n",
              "  </thead>\n",
              "  <tbody>\n",
              "    <tr>\n",
              "      <th>0</th>\n",
              "      <td>LP001015</td>\n",
              "      <td>Male</td>\n",
              "      <td>Yes</td>\n",
              "      <td>0</td>\n",
              "      <td>Graduate</td>\n",
              "      <td>No</td>\n",
              "      <td>5720</td>\n",
              "      <td>0</td>\n",
              "      <td>110.0</td>\n",
              "      <td>360.0</td>\n",
              "      <td>1.0</td>\n",
              "      <td>Urban</td>\n",
              "      <td>Y</td>\n",
              "    </tr>\n",
              "    <tr>\n",
              "      <th>1</th>\n",
              "      <td>LP001022</td>\n",
              "      <td>Male</td>\n",
              "      <td>Yes</td>\n",
              "      <td>1</td>\n",
              "      <td>Graduate</td>\n",
              "      <td>No</td>\n",
              "      <td>3076</td>\n",
              "      <td>1500</td>\n",
              "      <td>126.0</td>\n",
              "      <td>360.0</td>\n",
              "      <td>1.0</td>\n",
              "      <td>Urban</td>\n",
              "      <td>Y</td>\n",
              "    </tr>\n",
              "    <tr>\n",
              "      <th>2</th>\n",
              "      <td>LP001031</td>\n",
              "      <td>Male</td>\n",
              "      <td>Yes</td>\n",
              "      <td>2</td>\n",
              "      <td>Graduate</td>\n",
              "      <td>No</td>\n",
              "      <td>5000</td>\n",
              "      <td>1800</td>\n",
              "      <td>208.0</td>\n",
              "      <td>360.0</td>\n",
              "      <td>1.0</td>\n",
              "      <td>Urban</td>\n",
              "      <td>Y</td>\n",
              "    </tr>\n",
              "    <tr>\n",
              "      <th>3</th>\n",
              "      <td>LP001035</td>\n",
              "      <td>Male</td>\n",
              "      <td>Yes</td>\n",
              "      <td>2</td>\n",
              "      <td>Graduate</td>\n",
              "      <td>No</td>\n",
              "      <td>2340</td>\n",
              "      <td>2546</td>\n",
              "      <td>100.0</td>\n",
              "      <td>360.0</td>\n",
              "      <td>NaN</td>\n",
              "      <td>Urban</td>\n",
              "      <td>Y</td>\n",
              "    </tr>\n",
              "    <tr>\n",
              "      <th>4</th>\n",
              "      <td>LP001051</td>\n",
              "      <td>Male</td>\n",
              "      <td>No</td>\n",
              "      <td>0</td>\n",
              "      <td>Not Graduate</td>\n",
              "      <td>No</td>\n",
              "      <td>3276</td>\n",
              "      <td>0</td>\n",
              "      <td>78.0</td>\n",
              "      <td>360.0</td>\n",
              "      <td>1.0</td>\n",
              "      <td>Urban</td>\n",
              "      <td>Y</td>\n",
              "    </tr>\n",
              "  </tbody>\n",
              "</table>\n",
              "</div>"
            ],
            "text/plain": [
              "    Loan_ID Gender Married  ... Credit_History Property_Area Loan_Status\n",
              "0  LP001015   Male     Yes  ...            1.0         Urban           Y\n",
              "1  LP001022   Male     Yes  ...            1.0         Urban           Y\n",
              "2  LP001031   Male     Yes  ...            1.0         Urban           Y\n",
              "3  LP001035   Male     Yes  ...            NaN         Urban           Y\n",
              "4  LP001051   Male      No  ...            1.0         Urban           Y\n",
              "\n",
              "[5 rows x 13 columns]"
            ]
          },
          "metadata": {
            "tags": []
          },
          "execution_count": 54
        }
      ]
    },
    {
      "cell_type": "code",
      "metadata": {
        "id": "L5FV3Wom2BIK",
        "colab_type": "code",
        "colab": {}
      },
      "source": [
        ""
      ],
      "execution_count": 0,
      "outputs": []
    },
    {
      "cell_type": "code",
      "metadata": {
        "id": "HclZKONL1nes",
        "colab_type": "code",
        "colab": {
          "base_uri": "https://localhost:8080/",
          "height": 234
        },
        "outputId": "ef0d0716-4020-48b3-d64a-181351d56e40"
      },
      "source": [
        "df.drop(['Loan_ID'] , axis = 1, inplace = True)\n",
        "df.head()\n"
      ],
      "execution_count": 55,
      "outputs": [
        {
          "output_type": "execute_result",
          "data": {
            "text/html": [
              "<div>\n",
              "<style scoped>\n",
              "    .dataframe tbody tr th:only-of-type {\n",
              "        vertical-align: middle;\n",
              "    }\n",
              "\n",
              "    .dataframe tbody tr th {\n",
              "        vertical-align: top;\n",
              "    }\n",
              "\n",
              "    .dataframe thead th {\n",
              "        text-align: right;\n",
              "    }\n",
              "</style>\n",
              "<table border=\"1\" class=\"dataframe\">\n",
              "  <thead>\n",
              "    <tr style=\"text-align: right;\">\n",
              "      <th></th>\n",
              "      <th>Gender</th>\n",
              "      <th>Married</th>\n",
              "      <th>Dependents</th>\n",
              "      <th>Education</th>\n",
              "      <th>Self_Employed</th>\n",
              "      <th>ApplicantIncome</th>\n",
              "      <th>CoapplicantIncome</th>\n",
              "      <th>LoanAmount</th>\n",
              "      <th>Loan_Amount_Term</th>\n",
              "      <th>Credit_History</th>\n",
              "      <th>Property_Area</th>\n",
              "      <th>Loan_Status</th>\n",
              "    </tr>\n",
              "  </thead>\n",
              "  <tbody>\n",
              "    <tr>\n",
              "      <th>0</th>\n",
              "      <td>Male</td>\n",
              "      <td>No</td>\n",
              "      <td>0</td>\n",
              "      <td>Graduate</td>\n",
              "      <td>No</td>\n",
              "      <td>5849</td>\n",
              "      <td>0.0</td>\n",
              "      <td>NaN</td>\n",
              "      <td>360.0</td>\n",
              "      <td>1.0</td>\n",
              "      <td>Urban</td>\n",
              "      <td>Y</td>\n",
              "    </tr>\n",
              "    <tr>\n",
              "      <th>1</th>\n",
              "      <td>Male</td>\n",
              "      <td>Yes</td>\n",
              "      <td>1</td>\n",
              "      <td>Graduate</td>\n",
              "      <td>No</td>\n",
              "      <td>4583</td>\n",
              "      <td>1508.0</td>\n",
              "      <td>128.0</td>\n",
              "      <td>360.0</td>\n",
              "      <td>1.0</td>\n",
              "      <td>Rural</td>\n",
              "      <td>N</td>\n",
              "    </tr>\n",
              "    <tr>\n",
              "      <th>2</th>\n",
              "      <td>Male</td>\n",
              "      <td>Yes</td>\n",
              "      <td>0</td>\n",
              "      <td>Graduate</td>\n",
              "      <td>Yes</td>\n",
              "      <td>3000</td>\n",
              "      <td>0.0</td>\n",
              "      <td>66.0</td>\n",
              "      <td>360.0</td>\n",
              "      <td>1.0</td>\n",
              "      <td>Urban</td>\n",
              "      <td>Y</td>\n",
              "    </tr>\n",
              "    <tr>\n",
              "      <th>3</th>\n",
              "      <td>Male</td>\n",
              "      <td>Yes</td>\n",
              "      <td>0</td>\n",
              "      <td>Not Graduate</td>\n",
              "      <td>No</td>\n",
              "      <td>2583</td>\n",
              "      <td>2358.0</td>\n",
              "      <td>120.0</td>\n",
              "      <td>360.0</td>\n",
              "      <td>1.0</td>\n",
              "      <td>Urban</td>\n",
              "      <td>Y</td>\n",
              "    </tr>\n",
              "    <tr>\n",
              "      <th>4</th>\n",
              "      <td>Male</td>\n",
              "      <td>No</td>\n",
              "      <td>0</td>\n",
              "      <td>Graduate</td>\n",
              "      <td>No</td>\n",
              "      <td>6000</td>\n",
              "      <td>0.0</td>\n",
              "      <td>141.0</td>\n",
              "      <td>360.0</td>\n",
              "      <td>1.0</td>\n",
              "      <td>Urban</td>\n",
              "      <td>Y</td>\n",
              "    </tr>\n",
              "  </tbody>\n",
              "</table>\n",
              "</div>"
            ],
            "text/plain": [
              "  Gender Married Dependents  ... Credit_History Property_Area  Loan_Status\n",
              "0   Male      No          0  ...            1.0         Urban            Y\n",
              "1   Male     Yes          1  ...            1.0         Rural            N\n",
              "2   Male     Yes          0  ...            1.0         Urban            Y\n",
              "3   Male     Yes          0  ...            1.0         Urban            Y\n",
              "4   Male      No          0  ...            1.0         Urban            Y\n",
              "\n",
              "[5 rows x 12 columns]"
            ]
          },
          "metadata": {
            "tags": []
          },
          "execution_count": 55
        }
      ]
    },
    {
      "cell_type": "code",
      "metadata": {
        "id": "gL3jPrQh1xJt",
        "colab_type": "code",
        "colab": {
          "base_uri": "https://localhost:8080/",
          "height": 234
        },
        "outputId": "9951ceb9-ad63-4efe-e030-a41a2bd984e0"
      },
      "source": [
        "dft.drop(['Loan_ID'] , axis = 1, inplace = True)\n",
        "dft.head()"
      ],
      "execution_count": 56,
      "outputs": [
        {
          "output_type": "execute_result",
          "data": {
            "text/html": [
              "<div>\n",
              "<style scoped>\n",
              "    .dataframe tbody tr th:only-of-type {\n",
              "        vertical-align: middle;\n",
              "    }\n",
              "\n",
              "    .dataframe tbody tr th {\n",
              "        vertical-align: top;\n",
              "    }\n",
              "\n",
              "    .dataframe thead th {\n",
              "        text-align: right;\n",
              "    }\n",
              "</style>\n",
              "<table border=\"1\" class=\"dataframe\">\n",
              "  <thead>\n",
              "    <tr style=\"text-align: right;\">\n",
              "      <th></th>\n",
              "      <th>Gender</th>\n",
              "      <th>Married</th>\n",
              "      <th>Dependents</th>\n",
              "      <th>Education</th>\n",
              "      <th>Self_Employed</th>\n",
              "      <th>ApplicantIncome</th>\n",
              "      <th>CoapplicantIncome</th>\n",
              "      <th>LoanAmount</th>\n",
              "      <th>Loan_Amount_Term</th>\n",
              "      <th>Credit_History</th>\n",
              "      <th>Property_Area</th>\n",
              "      <th>Loan_Status</th>\n",
              "    </tr>\n",
              "  </thead>\n",
              "  <tbody>\n",
              "    <tr>\n",
              "      <th>0</th>\n",
              "      <td>Male</td>\n",
              "      <td>Yes</td>\n",
              "      <td>0</td>\n",
              "      <td>Graduate</td>\n",
              "      <td>No</td>\n",
              "      <td>5720</td>\n",
              "      <td>0</td>\n",
              "      <td>110.0</td>\n",
              "      <td>360.0</td>\n",
              "      <td>1.0</td>\n",
              "      <td>Urban</td>\n",
              "      <td>Y</td>\n",
              "    </tr>\n",
              "    <tr>\n",
              "      <th>1</th>\n",
              "      <td>Male</td>\n",
              "      <td>Yes</td>\n",
              "      <td>1</td>\n",
              "      <td>Graduate</td>\n",
              "      <td>No</td>\n",
              "      <td>3076</td>\n",
              "      <td>1500</td>\n",
              "      <td>126.0</td>\n",
              "      <td>360.0</td>\n",
              "      <td>1.0</td>\n",
              "      <td>Urban</td>\n",
              "      <td>Y</td>\n",
              "    </tr>\n",
              "    <tr>\n",
              "      <th>2</th>\n",
              "      <td>Male</td>\n",
              "      <td>Yes</td>\n",
              "      <td>2</td>\n",
              "      <td>Graduate</td>\n",
              "      <td>No</td>\n",
              "      <td>5000</td>\n",
              "      <td>1800</td>\n",
              "      <td>208.0</td>\n",
              "      <td>360.0</td>\n",
              "      <td>1.0</td>\n",
              "      <td>Urban</td>\n",
              "      <td>Y</td>\n",
              "    </tr>\n",
              "    <tr>\n",
              "      <th>3</th>\n",
              "      <td>Male</td>\n",
              "      <td>Yes</td>\n",
              "      <td>2</td>\n",
              "      <td>Graduate</td>\n",
              "      <td>No</td>\n",
              "      <td>2340</td>\n",
              "      <td>2546</td>\n",
              "      <td>100.0</td>\n",
              "      <td>360.0</td>\n",
              "      <td>NaN</td>\n",
              "      <td>Urban</td>\n",
              "      <td>Y</td>\n",
              "    </tr>\n",
              "    <tr>\n",
              "      <th>4</th>\n",
              "      <td>Male</td>\n",
              "      <td>No</td>\n",
              "      <td>0</td>\n",
              "      <td>Not Graduate</td>\n",
              "      <td>No</td>\n",
              "      <td>3276</td>\n",
              "      <td>0</td>\n",
              "      <td>78.0</td>\n",
              "      <td>360.0</td>\n",
              "      <td>1.0</td>\n",
              "      <td>Urban</td>\n",
              "      <td>Y</td>\n",
              "    </tr>\n",
              "  </tbody>\n",
              "</table>\n",
              "</div>"
            ],
            "text/plain": [
              "  Gender Married Dependents  ... Credit_History Property_Area  Loan_Status\n",
              "0   Male     Yes          0  ...            1.0         Urban            Y\n",
              "1   Male     Yes          1  ...            1.0         Urban            Y\n",
              "2   Male     Yes          2  ...            1.0         Urban            Y\n",
              "3   Male     Yes          2  ...            NaN         Urban            Y\n",
              "4   Male      No          0  ...            1.0         Urban            Y\n",
              "\n",
              "[5 rows x 12 columns]"
            ]
          },
          "metadata": {
            "tags": []
          },
          "execution_count": 56
        }
      ]
    },
    {
      "cell_type": "code",
      "metadata": {
        "id": "c4SxJkhezm5q",
        "colab_type": "code",
        "colab": {
          "base_uri": "https://localhost:8080/",
          "height": 238
        },
        "outputId": "9cb1f04b-7a73-4b53-fff5-093f76fef821"
      },
      "source": [
        "dft.isnull().sum()"
      ],
      "execution_count": 58,
      "outputs": [
        {
          "output_type": "execute_result",
          "data": {
            "text/plain": [
              "Gender               11\n",
              "Married               0\n",
              "Dependents           10\n",
              "Education             0\n",
              "Self_Employed        23\n",
              "ApplicantIncome       0\n",
              "CoapplicantIncome     0\n",
              "LoanAmount            5\n",
              "Loan_Amount_Term      6\n",
              "Credit_History       29\n",
              "Property_Area         0\n",
              "Loan_Status           0\n",
              "dtype: int64"
            ]
          },
          "metadata": {
            "tags": []
          },
          "execution_count": 58
        }
      ]
    },
    {
      "cell_type": "code",
      "metadata": {
        "id": "J50pCJmuz8R1",
        "colab_type": "code",
        "colab": {
          "base_uri": "https://localhost:8080/",
          "height": 68
        },
        "outputId": "3794abcb-8341-4fb3-c14c-6877104fa248"
      },
      "source": [
        "count=0\n",
        "for numberofmales in dft['Gender']:\n",
        " if(numberofmales==\"Male\" ):\n",
        "   count=count+1\n",
        "\n",
        "print(count)\n",
        "\n",
        "sumsofG= dft['Gender'].count()\n",
        "\n",
        "\n",
        "countF=sumsofG-count\n",
        "print(countF)\n",
        "print(sumsofG)\n",
        "\n",
        "dft['LoanAmount'].fillna(dft['LoanAmount'].mean(),inplace=True)\n",
        "dft['Self_Employed'].fillna('No',inplace=True)\n",
        "dft['Gender'].fillna('Male', inplace=True)\n",
        "dft['Married'].fillna(dft['Married'].mode()[0], inplace=True)\n",
        "dft['Dependents'].fillna(dft['Dependents'].mode()[0], inplace=True)\n",
        "dft['Loan_Amount_Term'].fillna(dft['Loan_Amount_Term'].mode()[0], inplace=True)\n",
        "dft['Credit_History'].fillna(dft['Credit_History'].mode()[0], inplace=True)  \n",
        "\n",
        "dft['income'] = dft['ApplicantIncome'] + dft['CoapplicantIncome']"
      ],
      "execution_count": 59,
      "outputs": [
        {
          "output_type": "stream",
          "text": [
            "286\n",
            "70\n",
            "356\n"
          ],
          "name": "stdout"
        }
      ]
    },
    {
      "cell_type": "code",
      "metadata": {
        "id": "cnfUlDgIQ3R5",
        "colab_type": "code",
        "outputId": "5081ffd7-f240-426b-81ab-73ae26ab09d4",
        "colab": {
          "base_uri": "https://localhost:8080/",
          "height": 238
        }
      },
      "source": [
        "df.isnull().sum()\n"
      ],
      "execution_count": 60,
      "outputs": [
        {
          "output_type": "execute_result",
          "data": {
            "text/plain": [
              "Gender               13\n",
              "Married               3\n",
              "Dependents           15\n",
              "Education             0\n",
              "Self_Employed        32\n",
              "ApplicantIncome       0\n",
              "CoapplicantIncome     0\n",
              "LoanAmount           22\n",
              "Loan_Amount_Term     14\n",
              "Credit_History       50\n",
              "Property_Area         0\n",
              "Loan_Status           0\n",
              "dtype: int64"
            ]
          },
          "metadata": {
            "tags": []
          },
          "execution_count": 60
        }
      ]
    },
    {
      "cell_type": "code",
      "metadata": {
        "id": "hBC8TrAexzB6",
        "colab_type": "code",
        "outputId": "23c8116d-f760-43a6-d612-bd28a4bcf1f1",
        "colab": {
          "base_uri": "https://localhost:8080/",
          "height": 68
        }
      },
      "source": [
        "count=0\n",
        "for numberofmales in df['Gender']:\n",
        " if(numberofmales==\"Male\" ):\n",
        "   count=count+1\n",
        "\n",
        "print(count)\n",
        "\n",
        "sumsofG= df['Gender'].count()\n",
        "\n",
        "\n",
        "countF=sumsofG-count\n",
        "print(countF)\n",
        "print(sumsofG)"
      ],
      "execution_count": 61,
      "outputs": [
        {
          "output_type": "stream",
          "text": [
            "489\n",
            "112\n",
            "601\n"
          ],
          "name": "stdout"
        }
      ]
    },
    {
      "cell_type": "code",
      "metadata": {
        "id": "BZ1_bbFMqA3x",
        "colab_type": "code",
        "colab": {}
      },
      "source": [
        "df['LoanAmount'].fillna(df['LoanAmount'].mean(),inplace=True)\n",
        "df['Self_Employed'].fillna('No',inplace=True)\n",
        "df['Gender'].fillna('Male', inplace=True)\n",
        "df['Married'].fillna(df['Married'].mode()[0], inplace=True)\n",
        "df['Dependents'].fillna(df['Dependents'].mode()[0], inplace=True)\n",
        "df['Loan_Amount_Term'].fillna(df['Loan_Amount_Term'].mode()[0], inplace=True)\n",
        "df['Credit_History'].fillna(df['Credit_History'].mode()[0], inplace=True)  \n",
        "\n",
        "df['income'] = df['ApplicantIncome'] + df['CoapplicantIncome']"
      ],
      "execution_count": 0,
      "outputs": []
    },
    {
      "cell_type": "code",
      "metadata": {
        "id": "4t5VaQAlxgIC",
        "colab_type": "code",
        "colab": {
          "base_uri": "https://localhost:8080/",
          "height": 256
        },
        "outputId": "dbec1dc5-73fd-47ce-e242-2c49527b0291"
      },
      "source": [
        "from sklearn.preprocessing import LabelEncoder\n",
        "Columntobe = ['Gender','Married','Dependents','Education','Self_Employed','Property_Area','Loan_Status']\n",
        "le = LabelEncoder()\n",
        "for i in Columntobe:\n",
        "    df[i] = le.fit_transform(df[i])\n",
        "df.dtypes \n"
      ],
      "execution_count": 63,
      "outputs": [
        {
          "output_type": "execute_result",
          "data": {
            "text/plain": [
              "Gender                 int64\n",
              "Married                int64\n",
              "Dependents             int64\n",
              "Education              int64\n",
              "Self_Employed          int64\n",
              "ApplicantIncome        int64\n",
              "CoapplicantIncome    float64\n",
              "LoanAmount           float64\n",
              "Loan_Amount_Term     float64\n",
              "Credit_History       float64\n",
              "Property_Area          int64\n",
              "Loan_Status            int64\n",
              "income               float64\n",
              "dtype: object"
            ]
          },
          "metadata": {
            "tags": []
          },
          "execution_count": 63
        }
      ]
    },
    {
      "cell_type": "code",
      "metadata": {
        "id": "8cY76s062Snh",
        "colab_type": "code",
        "colab": {
          "base_uri": "https://localhost:8080/",
          "height": 256
        },
        "outputId": "9d2b45f3-55ab-4807-b4b9-80f076961175"
      },
      "source": [
        "from sklearn.preprocessing import LabelEncoder\n",
        "Columntobe = ['Gender','Married','Dependents','Education','Self_Employed','Property_Area','Loan_Status']\n",
        "le = LabelEncoder()\n",
        "for i in Columntobe:\n",
        "    dft[i] = le.fit_transform(dft[i])\n",
        "dft.dtypes \n"
      ],
      "execution_count": 67,
      "outputs": [
        {
          "output_type": "execute_result",
          "data": {
            "text/plain": [
              "Gender                 int64\n",
              "Married                int64\n",
              "Dependents             int64\n",
              "Education              int64\n",
              "Self_Employed          int64\n",
              "ApplicantIncome        int64\n",
              "CoapplicantIncome      int64\n",
              "LoanAmount           float64\n",
              "Loan_Amount_Term     float64\n",
              "Credit_History       float64\n",
              "Property_Area          int64\n",
              "Loan_Status            int64\n",
              "income                 int64\n",
              "dtype: object"
            ]
          },
          "metadata": {
            "tags": []
          },
          "execution_count": 67
        }
      ]
    },
    {
      "cell_type": "code",
      "metadata": {
        "id": "gv8-b4Me2lX1",
        "colab_type": "code",
        "colab": {}
      },
      "source": [
        "X_train=df.iloc[:,:-1].values\n",
        "X_test=dft.iloc[:,:-1].values\n",
        "y_train=df.iloc[:,-1].values\n",
        "y_test=dft.iloc[:,-1].values\n",
        "\n",
        "\n",
        "\n"
      ],
      "execution_count": 0,
      "outputs": []
    },
    {
      "cell_type": "code",
      "metadata": {
        "id": "nV76T3YczBa_",
        "colab_type": "code",
        "colab": {}
      },
      "source": [
        "from sklearn.model_selection import KFold\n",
        "from sklearn.tree import DecisionTreeClassifier\n",
        "from sklearn.neighbors import KNeighborsClassifier\n",
        "from sklearn.preprocessing import StandardScaler\n",
        "from sklearn.model_selection import GridSearchCV\n",
        "from sklearn.linear_model import LogisticRegression\n",
        "from sklearn.svm import SVC\n",
        "from sklearn import svm\n",
        "from sklearn.model_selection import train_test_split\n",
        "from sklearn.metrics import accuracy_score\n",
        "from sklearn.model_selection import cross_val_score\n",
        "from sklearn import metrics"
      ],
      "execution_count": 0,
      "outputs": []
    },
    {
      "cell_type": "code",
      "metadata": {
        "id": "k5HvFpZD335a",
        "colab_type": "code",
        "colab": {}
      },
      "source": [
        "df.drop(['Self_Employed'],axis=1,inplace=True)\n",
        "\n",
        "X2 = df.drop(['Loan_Status'],axis =1)\n",
        "y2 = df['Loan_Status']\n"
      ],
      "execution_count": 0,
      "outputs": []
    },
    {
      "cell_type": "code",
      "metadata": {
        "id": "OIEi6Ffx4Zec",
        "colab_type": "code",
        "colab": {}
      },
      "source": [
        "\n",
        "X2_train,X2_test,y2_train,y2_test=train_test_split(X2,y2,test_size=0.5)"
      ],
      "execution_count": 0,
      "outputs": []
    },
    {
      "cell_type": "code",
      "metadata": {
        "id": "A6bJYnPW3h-A",
        "colab_type": "code",
        "colab": {
          "base_uri": "https://localhost:8080/",
          "height": 197
        },
        "outputId": "2c7d15ce-4daa-4f62-bfe4-ad72abf97e67"
      },
      "source": [
        "abc=[]\n",
        "classifiers=['Linear Svm','Radial Svm','Logistic Regression','KNN','Decision Tree']\n",
        "models=[svm.SVC(kernel='linear'),svm.SVC(kernel='rbf'),LogisticRegression(),KNeighborsClassifier(n_neighbors=3),DecisionTreeClassifier()]\n",
        "for i in models:\n",
        "    model = i\n",
        "    model.fit(X2_train,y2_train)\n",
        "    prediction=model.predict(X2_test)\n",
        "    abc.append(metrics.accuracy_score(prediction,y2_test))\n",
        "models_dataframe=pd.DataFrame(abc,index=classifiers)   \n",
        "models_dataframe.columns=['Accuracy']\n",
        "models_dataframe\n"
      ],
      "execution_count": 89,
      "outputs": [
        {
          "output_type": "execute_result",
          "data": {
            "text/html": [
              "<div>\n",
              "<style scoped>\n",
              "    .dataframe tbody tr th:only-of-type {\n",
              "        vertical-align: middle;\n",
              "    }\n",
              "\n",
              "    .dataframe tbody tr th {\n",
              "        vertical-align: top;\n",
              "    }\n",
              "\n",
              "    .dataframe thead th {\n",
              "        text-align: right;\n",
              "    }\n",
              "</style>\n",
              "<table border=\"1\" class=\"dataframe\">\n",
              "  <thead>\n",
              "    <tr style=\"text-align: right;\">\n",
              "      <th></th>\n",
              "      <th>Accuracy</th>\n",
              "    </tr>\n",
              "  </thead>\n",
              "  <tbody>\n",
              "    <tr>\n",
              "      <th>Linear Svm</th>\n",
              "      <td>0.723127</td>\n",
              "    </tr>\n",
              "    <tr>\n",
              "      <th>Radial Svm</th>\n",
              "      <td>0.690554</td>\n",
              "    </tr>\n",
              "    <tr>\n",
              "      <th>Logistic Regression</th>\n",
              "      <td>0.811075</td>\n",
              "    </tr>\n",
              "    <tr>\n",
              "      <th>KNN</th>\n",
              "      <td>0.596091</td>\n",
              "    </tr>\n",
              "    <tr>\n",
              "      <th>Decision Tree</th>\n",
              "      <td>0.719870</td>\n",
              "    </tr>\n",
              "  </tbody>\n",
              "</table>\n",
              "</div>"
            ],
            "text/plain": [
              "                     Accuracy\n",
              "Linear Svm           0.723127\n",
              "Radial Svm           0.690554\n",
              "Logistic Regression  0.811075\n",
              "KNN                  0.596091\n",
              "Decision Tree        0.719870"
            ]
          },
          "metadata": {
            "tags": []
          },
          "execution_count": 89
        }
      ]
    },
    {
      "cell_type": "code",
      "metadata": {
        "id": "zW7pLUgazfVD",
        "colab_type": "code",
        "colab": {
          "base_uri": "https://localhost:8080/",
          "height": 241
        },
        "outputId": "9987365d-6260-4d46-fb91-e6517f1a476a"
      },
      "source": [
        "models=[]\n",
        "models.append(('DEST',DecisionTreeClassifier()))\n",
        "models.append(('SVM',SVC()))\n",
        "models.append(('LR',LogisticRegression()))\n",
        "models.append(('KNN',KNeighborsClassifier(n_neighbors=5)))\n",
        "numfolds=3\n",
        "results=[]\n",
        "names=[]\n",
        "for name,modelP in models:\n",
        "  \n",
        "  kfold=KFold(n_splits=numfolds)\n",
        "  cv_results = cross_val_score(modelP,X2_train,y2_train,cv=kfold)\n",
        "  results.append(cv_results)\n",
        "  names.append(name)\n",
        "  print(\"%s: %f (%f) \"%(name,cv_results.mean(),cv_results.std()))\n",
        "\n",
        "  \n"
      ],
      "execution_count": 91,
      "outputs": [
        {
          "output_type": "stream",
          "text": [
            "DEST: 0.690431 (0.029253) \n",
            "SVM: 0.680754 (0.010038) \n",
            "LR: 0.781490 (0.059620) \n",
            "KNN: 0.631861 (0.023957) \n"
          ],
          "name": "stdout"
        },
        {
          "output_type": "stream",
          "text": [
            "/usr/local/lib/python3.6/dist-packages/sklearn/linear_model/_logistic.py:940: ConvergenceWarning: lbfgs failed to converge (status=1):\n",
            "STOP: TOTAL NO. of ITERATIONS REACHED LIMIT.\n",
            "\n",
            "Increase the number of iterations (max_iter) or scale the data as shown in:\n",
            "    https://scikit-learn.org/stable/modules/preprocessing.html\n",
            "Please also refer to the documentation for alternative solver options:\n",
            "    https://scikit-learn.org/stable/modules/linear_model.html#logistic-regression\n",
            "  extra_warning_msg=_LOGISTIC_SOLVER_CONVERGENCE_MSG)\n"
          ],
          "name": "stderr"
        }
      ]
    },
    {
      "cell_type": "code",
      "metadata": {
        "id": "E7on31nc5-S3",
        "colab_type": "code",
        "colab": {
          "base_uri": "https://localhost:8080/",
          "height": 770
        },
        "outputId": "d65ea078-5295-4014-b292-9da198ac4cb3"
      },
      "source": [
        "scaler = StandardScaler().fit(X2_train)\n",
        "rescaledX = scaler.transform(X2_train)\n",
        "c_values = [0.1, 0.3, 0.5, 0.7, 0.9, 1.0, 1.3, 1.5, 1.7, 2.0]\n",
        "kernel_values = ['linear', 'poly', 'rbf', 'sigmoid']\n",
        "param_grid = dict(C=c_values, kernel=kernel_values)\n",
        "model = SVC()\n",
        "kfold = KFold(n_splits=numfolds, random_state=21)\n",
        "grid = GridSearchCV(estimator=model, param_grid=param_grid, scoring='accuracy', cv=kfold)\n",
        "grid_result = grid.fit(rescaledX, y2_train)\n",
        "print(\"Best: %s using %s\" % (grid_result.best_score_, grid_result.best_params_))\n",
        "means = grid_result.cv_results_['mean_test_score']\n",
        "stds = grid_result.cv_results_['std_test_score']\n",
        "params = grid_result.cv_results_['params']\n",
        "for mean, stdev, param in zip(means, stds, params):\n",
        "    print(\"%f (%f) with: %r\" % (mean, stdev, param))"
      ],
      "execution_count": 92,
      "outputs": [
        {
          "output_type": "stream",
          "text": [
            "/usr/local/lib/python3.6/dist-packages/sklearn/model_selection/_split.py:296: FutureWarning: Setting a random_state has no effect since shuffle is False. This will raise an error in 0.24. You should leave random_state to its default (None), or set shuffle=True.\n",
            "  FutureWarning\n"
          ],
          "name": "stderr"
        },
        {
          "output_type": "stream",
          "text": [
            "Best: 0.8207373564312456 using {'C': 1.3, 'kernel': 'sigmoid'}\n",
            "0.814170 (0.037277) with: {'C': 0.1, 'kernel': 'linear'}\n",
            "0.710039 (0.038232) with: {'C': 0.1, 'kernel': 'poly'}\n",
            "0.690558 (0.012039) with: {'C': 0.1, 'kernel': 'rbf'}\n",
            "0.814170 (0.037277) with: {'C': 0.1, 'kernel': 'sigmoid'}\n",
            "0.814170 (0.037277) with: {'C': 0.3, 'kernel': 'linear'}\n",
            "0.739292 (0.044690) with: {'C': 0.3, 'kernel': 'poly'}\n",
            "0.801161 (0.036696) with: {'C': 0.3, 'kernel': 'rbf'}\n",
            "0.817438 (0.033937) with: {'C': 0.3, 'kernel': 'sigmoid'}\n",
            "0.814170 (0.037277) with: {'C': 0.5, 'kernel': 'linear'}\n",
            "0.781553 (0.048905) with: {'C': 0.5, 'kernel': 'poly'}\n",
            "0.791294 (0.051466) with: {'C': 0.5, 'kernel': 'rbf'}\n",
            "0.820706 (0.030929) with: {'C': 0.5, 'kernel': 'sigmoid'}\n",
            "0.814170 (0.037277) with: {'C': 0.7, 'kernel': 'linear'}\n",
            "0.794530 (0.058285) with: {'C': 0.7, 'kernel': 'poly'}\n",
            "0.788026 (0.053925) with: {'C': 0.7, 'kernel': 'rbf'}\n",
            "0.817438 (0.033937) with: {'C': 0.7, 'kernel': 'sigmoid'}\n",
            "0.814170 (0.037277) with: {'C': 0.9, 'kernel': 'linear'}\n",
            "0.794530 (0.056611) with: {'C': 0.9, 'kernel': 'poly'}\n",
            "0.788026 (0.053925) with: {'C': 0.9, 'kernel': 'rbf'}\n",
            "0.817469 (0.026397) with: {'C': 0.9, 'kernel': 'sigmoid'}\n",
            "0.814170 (0.037277) with: {'C': 1.0, 'kernel': 'linear'}\n",
            "0.794530 (0.056611) with: {'C': 1.0, 'kernel': 'poly'}\n",
            "0.791294 (0.052085) with: {'C': 1.0, 'kernel': 'rbf'}\n",
            "0.817469 (0.026397) with: {'C': 1.0, 'kernel': 'sigmoid'}\n",
            "0.814170 (0.037277) with: {'C': 1.3, 'kernel': 'linear'}\n",
            "0.797766 (0.061146) with: {'C': 1.3, 'kernel': 'poly'}\n",
            "0.788026 (0.053925) with: {'C': 1.3, 'kernel': 'rbf'}\n",
            "0.820737 (0.025092) with: {'C': 1.3, 'kernel': 'sigmoid'}\n",
            "0.814170 (0.037277) with: {'C': 1.5, 'kernel': 'linear'}\n",
            "0.791230 (0.065730) with: {'C': 1.5, 'kernel': 'poly'}\n",
            "0.788026 (0.053925) with: {'C': 1.5, 'kernel': 'rbf'}\n",
            "0.807729 (0.020847) with: {'C': 1.5, 'kernel': 'sigmoid'}\n",
            "0.814170 (0.037277) with: {'C': 1.7, 'kernel': 'linear'}\n",
            "0.787994 (0.061190) with: {'C': 1.7, 'kernel': 'poly'}\n",
            "0.784758 (0.056656) with: {'C': 1.7, 'kernel': 'rbf'}\n",
            "0.807729 (0.020847) with: {'C': 1.7, 'kernel': 'sigmoid'}\n",
            "0.814170 (0.037277) with: {'C': 2.0, 'kernel': 'linear'}\n",
            "0.791262 (0.059576) with: {'C': 2.0, 'kernel': 'poly'}\n",
            "0.784758 (0.056656) with: {'C': 2.0, 'kernel': 'rbf'}\n",
            "0.804493 (0.016714) with: {'C': 2.0, 'kernel': 'sigmoid'}\n"
          ],
          "name": "stdout"
        }
      ]
    },
    {
      "cell_type": "code",
      "metadata": {
        "id": "dq0dGMDY3K4_",
        "colab_type": "code",
        "colab": {
          "base_uri": "https://localhost:8080/",
          "height": 34
        },
        "outputId": "74b87772-ce0c-4bad-b550-5943f189ff3f"
      },
      "source": [
        "  \n",
        "print(\"Best model with hyperparameter tuning: %s using %s\" % (grid_result.best_score_, grid_result.best_params_))"
      ],
      "execution_count": 93,
      "outputs": [
        {
          "output_type": "stream",
          "text": [
            "Best model with hyperparameter tuning: 0.8207373564312456 using {'C': 1.3, 'kernel': 'sigmoid'}\n"
          ],
          "name": "stdout"
        }
      ]
    },
    {
      "cell_type": "code",
      "metadata": {
        "id": "aO_NuPuszj0O",
        "colab_type": "code",
        "colab": {}
      },
      "source": [
        ""
      ],
      "execution_count": 0,
      "outputs": []
    }
  ]
}